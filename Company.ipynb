{
 "cells": [
  {
   "cell_type": "markdown",
   "id": "ef1e33bd",
   "metadata": {},
   "source": [
    "# Selection of a company"
   ]
  },
  {
   "cell_type": "code",
   "execution_count": 52,
   "id": "4353a6bd",
   "metadata": {},
   "outputs": [],
   "source": [
    "import pandas as pd\n",
    "import json\n",
    "from pandas.io.json import json_normalize"
   ]
  },
  {
   "cell_type": "code",
   "execution_count": 53,
   "id": "c499fe93",
   "metadata": {},
   "outputs": [],
   "source": [
    "from pymongo import MongoClient\n",
    "client = MongoClient(\"localhost:27017\")"
   ]
  },
  {
   "cell_type": "code",
   "execution_count": 54,
   "id": "7ddd3240",
   "metadata": {},
   "outputs": [],
   "source": [
    "client.*list*?"
   ]
  },
  {
   "cell_type": "code",
   "execution_count": 55,
   "id": "aa21cd17",
   "metadata": {},
   "outputs": [
    {
     "data": {
      "text/plain": [
       "['Ironhack', 'admin', 'config', 'local']"
      ]
     },
     "execution_count": 55,
     "metadata": {},
     "output_type": "execute_result"
    }
   ],
   "source": [
    "client.list_database_names()"
   ]
  },
  {
   "cell_type": "code",
   "execution_count": 56,
   "id": "5fcc6be7",
   "metadata": {},
   "outputs": [],
   "source": [
    "db = client.get_database(\"Ironhack\")"
   ]
  },
  {
   "cell_type": "code",
   "execution_count": 57,
   "id": "05444da0",
   "metadata": {},
   "outputs": [
    {
     "data": {
      "text/plain": [
       "Database(MongoClient(host=['localhost:27017'], document_class=dict, tz_aware=False, connect=True), 'Ironhack')"
      ]
     },
     "execution_count": 57,
     "metadata": {},
     "output_type": "execute_result"
    }
   ],
   "source": [
    "db"
   ]
  },
  {
   "cell_type": "code",
   "execution_count": 58,
   "id": "39b690c1",
   "metadata": {},
   "outputs": [
    {
     "data": {
      "text/plain": [
       "['starbucks', 'companies', 'nightclubs', 'airport', 'hairdresser', 'nursery']"
      ]
     },
     "execution_count": 58,
     "metadata": {},
     "output_type": "execute_result"
    }
   ],
   "source": [
    "db.list_collection_names()"
   ]
  },
  {
   "cell_type": "code",
   "execution_count": 59,
   "id": "3902674a",
   "metadata": {},
   "outputs": [],
   "source": [
    "collection = db.get_collection(\"companies\")"
   ]
  },
  {
   "cell_type": "code",
   "execution_count": 60,
   "id": "7710dd73",
   "metadata": {},
   "outputs": [],
   "source": [
    "proj = {\"_id\": 0, \"name\":1, \"offices\":1}"
   ]
  },
  {
   "cell_type": "code",
   "execution_count": 61,
   "id": "8bb526a0",
   "metadata": {
    "scrolled": true
   },
   "outputs": [
    {
     "data": {
      "text/plain": [
       "[{'name': 'Wetpaint',\n",
       "  'offices': [{'description': '',\n",
       "    'address1': '710 - 2nd Avenue',\n",
       "    'address2': 'Suite 1100',\n",
       "    'zip_code': '98104',\n",
       "    'city': 'Seattle',\n",
       "    'state_code': 'WA',\n",
       "    'country_code': 'USA',\n",
       "    'latitude': 47.603122,\n",
       "    'longitude': -122.333253},\n",
       "   {'description': '',\n",
       "    'address1': '270 Lafayette Street',\n",
       "    'address2': 'Suite 505',\n",
       "    'zip_code': '10012',\n",
       "    'city': 'New York',\n",
       "    'state_code': 'NY',\n",
       "    'country_code': 'USA',\n",
       "    'latitude': 40.7237306,\n",
       "    'longitude': -73.9964312}]},\n",
       " {'name': 'AdventNet',\n",
       "  'offices': [{'description': 'Headquarters',\n",
       "    'address1': '4900 Hopyard Rd.',\n",
       "    'address2': 'Suite 310',\n",
       "    'zip_code': '94588',\n",
       "    'city': 'Pleasanton',\n",
       "    'state_code': 'CA',\n",
       "    'country_code': 'USA',\n",
       "    'latitude': 37.692934,\n",
       "    'longitude': -121.904945}]},\n",
       " {'name': 'Zoho',\n",
       "  'offices': [{'description': 'Headquarters',\n",
       "    'address1': '4900 Hopyard Rd',\n",
       "    'address2': 'Suite 310',\n",
       "    'zip_code': '94588',\n",
       "    'city': 'Pleasanton',\n",
       "    'state_code': 'CA',\n",
       "    'country_code': 'USA',\n",
       "    'latitude': 37.692934,\n",
       "    'longitude': -121.904945}]},\n",
       " {'name': 'Digg',\n",
       "  'offices': [{'description': None,\n",
       "    'address1': '135 Mississippi St',\n",
       "    'address2': '',\n",
       "    'zip_code': '94107',\n",
       "    'city': 'San Francisco',\n",
       "    'state_code': 'CA',\n",
       "    'country_code': 'USA',\n",
       "    'latitude': 37.764726,\n",
       "    'longitude': -122.394523}]},\n",
       " {'name': 'Facebook',\n",
       "  'offices': [{'description': 'Headquarters',\n",
       "    'address1': '1601 Willow Road',\n",
       "    'address2': '',\n",
       "    'zip_code': '94025',\n",
       "    'city': 'Menlo Park',\n",
       "    'state_code': 'CA',\n",
       "    'country_code': 'USA',\n",
       "    'latitude': 37.41605,\n",
       "    'longitude': -122.151801},\n",
       "   {'description': 'Europe HQ',\n",
       "    'address1': '',\n",
       "    'address2': '',\n",
       "    'zip_code': '',\n",
       "    'city': 'Dublin',\n",
       "    'state_code': None,\n",
       "    'country_code': 'IRL',\n",
       "    'latitude': 53.344104,\n",
       "    'longitude': -6.267494},\n",
       "   {'description': 'New York',\n",
       "    'address1': '340 Madison Ave',\n",
       "    'address2': '',\n",
       "    'zip_code': '10017',\n",
       "    'city': 'New York',\n",
       "    'state_code': 'NY',\n",
       "    'country_code': 'USA',\n",
       "    'latitude': 40.7557162,\n",
       "    'longitude': -73.9792469}]},\n",
       " {'name': 'Postini',\n",
       "  'offices': [{'description': None,\n",
       "    'address1': '959 Skyway Road, Suite 200',\n",
       "    'address2': None,\n",
       "    'zip_code': '94070',\n",
       "    'city': 'San Carlos',\n",
       "    'state_code': 'CA',\n",
       "    'country_code': 'USA',\n",
       "    'latitude': 37.506885,\n",
       "    'longitude': -122.247573}]},\n",
       " {'name': 'Geni',\n",
       "  'offices': [{'description': 'Headquarters',\n",
       "    'address1': '9229 W. Sunset Blvd.',\n",
       "    'address2': '',\n",
       "    'zip_code': '90069',\n",
       "    'city': 'West Hollywood',\n",
       "    'state_code': 'CA',\n",
       "    'country_code': 'USA',\n",
       "    'latitude': 34.090368,\n",
       "    'longitude': -118.393064}]},\n",
       " {'name': 'Flektor',\n",
       "  'offices': [{'description': None,\n",
       "    'address1': '8536 National Blvd, Suite A',\n",
       "    'address2': None,\n",
       "    'zip_code': '90232',\n",
       "    'city': 'Culver City',\n",
       "    'state_code': 'CA',\n",
       "    'country_code': 'USA',\n",
       "    'latitude': 34.025958,\n",
       "    'longitude': -118.379768}]},\n",
       " {'name': 'Fox Interactive Media',\n",
       "  'offices': [{'description': '',\n",
       "    'address1': '407 N Maple Dr',\n",
       "    'address2': '',\n",
       "    'zip_code': '90210',\n",
       "    'city': 'Beverly Hills',\n",
       "    'state_code': 'CA',\n",
       "    'country_code': 'USA',\n",
       "    'latitude': 34.076179,\n",
       "    'longitude': -118.39417}]},\n",
       " {'name': 'Twitter',\n",
       "  'offices': [{'description': '',\n",
       "    'address1': '1355 Market St.',\n",
       "    'address2': '',\n",
       "    'zip_code': '94103',\n",
       "    'city': 'San Francisco',\n",
       "    'state_code': 'CA',\n",
       "    'country_code': 'USA',\n",
       "    'latitude': 37.7768052,\n",
       "    'longitude': -122.4169244}]}]"
      ]
     },
     "execution_count": 61,
     "metadata": {},
     "output_type": "execute_result"
    }
   ],
   "source": [
    "list((collection.find({\"offices.country_code\": \"USA\"}, proj)).limit(10))"
   ]
  },
  {
   "cell_type": "code",
   "execution_count": 67,
   "id": "a72e930a",
   "metadata": {},
   "outputs": [],
   "source": [
    "filtro =   {'$and':[\n",
    "        {'offices.country_code': {'$eq': \"USA\"}},\n",
    "        {'offices.city': {'$eq': 'New York'}},\n",
    "        {'founded_year': {'$gte': 2000}},\n",
    "        {'name': {'$ne': None}},\n",
    "        {'offices.latitude': {'$ne': None}},\n",
    "        {'offices.longitude': {'$ne': None}},\n",
    "        {'number_of_employees':{'$gt': 10, '$lt': 500}},\n",
    "        {'category_code':{'$eq':\"games_video\"}},\n",
    "        ]}\n",
    "proyecto =  {'_id': 0, 'name' : 1, 'category_code' : 1, 'number_of_employees' : 1,\n",
    "     'founded_year' : 1, 'offices.country_code': 1, 'offices.city': 1, 'offices.latitude' : 1, 'offices.longitude' : 1 }\n",
    "\n",
    "result = db[\"companies\"].find(filtro, proyecto)"
   ]
  },
  {
   "cell_type": "code",
   "execution_count": 68,
   "id": "be4e0c6e",
   "metadata": {
    "scrolled": false
   },
   "outputs": [
    {
     "name": "stderr",
     "output_type": "stream",
     "text": [
      "<ipython-input-68-36361e7fe869>:1: FutureWarning: pandas.io.json.json_normalize is deprecated, use pandas.json_normalize instead\n",
      "  data = json_normalize(data =result, record_path = 'offices', meta = ['name', 'category_code', 'number_of_employees', 'founded_year'])\n"
     ]
    },
    {
     "data": {
      "text/html": [
       "<div>\n",
       "<style scoped>\n",
       "    .dataframe tbody tr th:only-of-type {\n",
       "        vertical-align: middle;\n",
       "    }\n",
       "\n",
       "    .dataframe tbody tr th {\n",
       "        vertical-align: top;\n",
       "    }\n",
       "\n",
       "    .dataframe thead th {\n",
       "        text-align: right;\n",
       "    }\n",
       "</style>\n",
       "<table border=\"1\" class=\"dataframe\">\n",
       "  <thead>\n",
       "    <tr style=\"text-align: right;\">\n",
       "      <th></th>\n",
       "      <th>city</th>\n",
       "      <th>country_code</th>\n",
       "      <th>latitude</th>\n",
       "      <th>longitude</th>\n",
       "      <th>name</th>\n",
       "      <th>category_code</th>\n",
       "      <th>number_of_employees</th>\n",
       "      <th>founded_year</th>\n",
       "    </tr>\n",
       "  </thead>\n",
       "  <tbody>\n",
       "    <tr>\n",
       "      <th>0</th>\n",
       "      <td>New York</td>\n",
       "      <td>USA</td>\n",
       "      <td>40.726155</td>\n",
       "      <td>-73.995625</td>\n",
       "      <td>Livestream</td>\n",
       "      <td>games_video</td>\n",
       "      <td>120</td>\n",
       "      <td>2007</td>\n",
       "    </tr>\n",
       "    <tr>\n",
       "      <th>1</th>\n",
       "      <td>New York</td>\n",
       "      <td>USA</td>\n",
       "      <td>40.722655</td>\n",
       "      <td>-73.998730</td>\n",
       "      <td>Pando Networks</td>\n",
       "      <td>games_video</td>\n",
       "      <td>23</td>\n",
       "      <td>2004</td>\n",
       "    </tr>\n",
       "    <tr>\n",
       "      <th>2</th>\n",
       "      <td>New York</td>\n",
       "      <td>USA</td>\n",
       "      <td>37.090240</td>\n",
       "      <td>-95.712891</td>\n",
       "      <td>SpiralFrog</td>\n",
       "      <td>games_video</td>\n",
       "      <td>15</td>\n",
       "      <td>2004</td>\n",
       "    </tr>\n",
       "    <tr>\n",
       "      <th>3</th>\n",
       "      <td>New York</td>\n",
       "      <td>USA</td>\n",
       "      <td>40.717248</td>\n",
       "      <td>-74.002662</td>\n",
       "      <td>Boonty</td>\n",
       "      <td>games_video</td>\n",
       "      <td>150</td>\n",
       "      <td>2001</td>\n",
       "    </tr>\n",
       "    <tr>\n",
       "      <th>4</th>\n",
       "      <td>New York</td>\n",
       "      <td>USA</td>\n",
       "      <td>40.739930</td>\n",
       "      <td>-73.993049</td>\n",
       "      <td>Cellufun</td>\n",
       "      <td>games_video</td>\n",
       "      <td>30</td>\n",
       "      <td>2005</td>\n",
       "    </tr>\n",
       "    <tr>\n",
       "      <th>5</th>\n",
       "      <td>New York</td>\n",
       "      <td>USA</td>\n",
       "      <td>40.752672</td>\n",
       "      <td>-73.975930</td>\n",
       "      <td>Major League Gaming</td>\n",
       "      <td>games_video</td>\n",
       "      <td>45</td>\n",
       "      <td>2002</td>\n",
       "    </tr>\n",
       "    <tr>\n",
       "      <th>6</th>\n",
       "      <td>New York</td>\n",
       "      <td>USA</td>\n",
       "      <td>40.743877</td>\n",
       "      <td>-73.986180</td>\n",
       "      <td>Saavn</td>\n",
       "      <td>games_video</td>\n",
       "      <td>25</td>\n",
       "      <td>2006</td>\n",
       "    </tr>\n",
       "    <tr>\n",
       "      <th>7</th>\n",
       "      <td>New York</td>\n",
       "      <td>USA</td>\n",
       "      <td>40.743877</td>\n",
       "      <td>-73.986180</td>\n",
       "      <td>[212]Media</td>\n",
       "      <td>games_video</td>\n",
       "      <td>75</td>\n",
       "      <td>2004</td>\n",
       "    </tr>\n",
       "    <tr>\n",
       "      <th>8</th>\n",
       "      <td>New York</td>\n",
       "      <td>USA</td>\n",
       "      <td>40.756054</td>\n",
       "      <td>-73.986951</td>\n",
       "      <td>Yoostar</td>\n",
       "      <td>games_video</td>\n",
       "      <td>40</td>\n",
       "      <td>2007</td>\n",
       "    </tr>\n",
       "    <tr>\n",
       "      <th>9</th>\n",
       "      <td>Los Angeles</td>\n",
       "      <td>USA</td>\n",
       "      <td>34.052187</td>\n",
       "      <td>-118.243425</td>\n",
       "      <td>Yoostar</td>\n",
       "      <td>games_video</td>\n",
       "      <td>40</td>\n",
       "      <td>2007</td>\n",
       "    </tr>\n",
       "    <tr>\n",
       "      <th>10</th>\n",
       "      <td>New York</td>\n",
       "      <td>USA</td>\n",
       "      <td>40.756054</td>\n",
       "      <td>-73.986951</td>\n",
       "      <td>GameGround</td>\n",
       "      <td>games_video</td>\n",
       "      <td>25</td>\n",
       "      <td>2007</td>\n",
       "    </tr>\n",
       "  </tbody>\n",
       "</table>\n",
       "</div>"
      ],
      "text/plain": [
       "           city country_code   latitude   longitude                 name  \\\n",
       "0      New York          USA  40.726155  -73.995625           Livestream   \n",
       "1      New York          USA  40.722655  -73.998730       Pando Networks   \n",
       "2      New York          USA  37.090240  -95.712891           SpiralFrog   \n",
       "3      New York          USA  40.717248  -74.002662               Boonty   \n",
       "4      New York          USA  40.739930  -73.993049             Cellufun   \n",
       "5      New York          USA  40.752672  -73.975930  Major League Gaming   \n",
       "6      New York          USA  40.743877  -73.986180                Saavn   \n",
       "7      New York          USA  40.743877  -73.986180           [212]Media   \n",
       "8      New York          USA  40.756054  -73.986951              Yoostar   \n",
       "9   Los Angeles          USA  34.052187 -118.243425              Yoostar   \n",
       "10     New York          USA  40.756054  -73.986951           GameGround   \n",
       "\n",
       "   category_code number_of_employees founded_year  \n",
       "0    games_video                 120         2007  \n",
       "1    games_video                  23         2004  \n",
       "2    games_video                  15         2004  \n",
       "3    games_video                 150         2001  \n",
       "4    games_video                  30         2005  \n",
       "5    games_video                  45         2002  \n",
       "6    games_video                  25         2006  \n",
       "7    games_video                  75         2004  \n",
       "8    games_video                  40         2007  \n",
       "9    games_video                  40         2007  \n",
       "10   games_video                  25         2007  "
      ]
     },
     "execution_count": 68,
     "metadata": {},
     "output_type": "execute_result"
    }
   ],
   "source": [
    "data = json_normalize(data =result, record_path = 'offices', meta = ['name', 'category_code', 'number_of_employees', 'founded_year'])\n",
    "data"
   ]
  },
  {
   "cell_type": "code",
   "execution_count": 64,
   "id": "2da323be",
   "metadata": {},
   "outputs": [],
   "source": [
    "data.to_csv(\"comps.csv\", index=0)"
   ]
  }
 ],
 "metadata": {
  "kernelspec": {
   "display_name": "Python 3",
   "language": "python",
   "name": "python3"
  },
  "language_info": {
   "codemirror_mode": {
    "name": "ipython",
    "version": 3
   },
   "file_extension": ".py",
   "mimetype": "text/x-python",
   "name": "python",
   "nbconvert_exporter": "python",
   "pygments_lexer": "ipython3",
   "version": "3.8.5"
  }
 },
 "nbformat": 4,
 "nbformat_minor": 5
}
